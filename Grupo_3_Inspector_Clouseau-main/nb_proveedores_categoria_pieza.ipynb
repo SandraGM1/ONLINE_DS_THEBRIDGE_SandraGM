{
 "cells": [
  {
   "cell_type": "code",
   "execution_count": 1,
   "id": "9db17040",
   "metadata": {},
   "outputs": [],
   "source": [
    "import pandas as pd\n",
    "import sqlite3"
   ]
  },
  {
   "cell_type": "code",
   "execution_count": 2,
   "id": "dbbf93fc",
   "metadata": {},
   "outputs": [],
   "source": [
    "cnx = sqlite3.connect(\"base_datos_proveedores.db\")"
   ]
  },
  {
   "cell_type": "code",
   "execution_count": 3,
   "id": "3de1ed35",
   "metadata": {},
   "outputs": [],
   "source": [
    "cursor_prov = cnx.cursor()"
   ]
  },
  {
   "cell_type": "code",
   "execution_count": 4,
   "id": "9da34088",
   "metadata": {},
   "outputs": [
    {
     "ename": "OperationalError",
     "evalue": "table proveedores already exists",
     "output_type": "error",
     "traceback": [
      "\u001b[1;31m---------------------------------------------------------------------------\u001b[0m",
      "\u001b[1;31mOperationalError\u001b[0m                          Traceback (most recent call last)",
      "Cell \u001b[1;32mIn[4], line 10\u001b[0m\n\u001b[0;32m      1\u001b[0m query \u001b[38;5;241m=\u001b[39m \u001b[38;5;124m'''\u001b[39m\n\u001b[0;32m      2\u001b[0m \u001b[38;5;124mCREATE TABLE proveedores (\u001b[39m\n\u001b[0;32m      3\u001b[0m \u001b[38;5;124mid_proveedor INT PRIMARY KEY,\u001b[39m\n\u001b[1;32m   (...)\u001b[0m\n\u001b[0;32m      8\u001b[0m \u001b[38;5;124m) \u001b[39m\n\u001b[0;32m      9\u001b[0m \u001b[38;5;124m'''\u001b[39m\n\u001b[1;32m---> 10\u001b[0m \u001b[43mcursor_prov\u001b[49m\u001b[38;5;241;43m.\u001b[39;49m\u001b[43mexecute\u001b[49m\u001b[43m(\u001b[49m\u001b[43mquery\u001b[49m\u001b[43m)\u001b[49m\n",
      "\u001b[1;31mOperationalError\u001b[0m: table proveedores already exists"
     ]
    }
   ],
   "source": [
    "query = '''\n",
    "CREATE TABLE proveedores (\n",
    "id_proveedor INT PRIMARY KEY,\n",
    "nombre TEXT NOT NULL,\n",
    "direccion TEXT NOT NULL,\n",
    "ciudad TEXT NOT NULL,\n",
    "provincia TEXT NOT NULL\n",
    ") \n",
    "'''\n",
    "cursor_prov.execute(query)"
   ]
  },
  {
   "cell_type": "code",
   "execution_count": null,
   "id": "cf9619cb",
   "metadata": {},
   "outputs": [
    {
     "data": {
      "text/html": [
       "<div>\n",
       "<style scoped>\n",
       "    .dataframe tbody tr th:only-of-type {\n",
       "        vertical-align: middle;\n",
       "    }\n",
       "\n",
       "    .dataframe tbody tr th {\n",
       "        vertical-align: top;\n",
       "    }\n",
       "\n",
       "    .dataframe thead th {\n",
       "        text-align: right;\n",
       "    }\n",
       "</style>\n",
       "<table border=\"1\" class=\"dataframe\">\n",
       "  <thead>\n",
       "    <tr style=\"text-align: right;\">\n",
       "      <th></th>\n",
       "      <th>type</th>\n",
       "      <th>name</th>\n",
       "      <th>tbl_name</th>\n",
       "      <th>rootpage</th>\n",
       "      <th>sql</th>\n",
       "    </tr>\n",
       "  </thead>\n",
       "  <tbody>\n",
       "    <tr>\n",
       "      <th>0</th>\n",
       "      <td>table</td>\n",
       "      <td>proveedores</td>\n",
       "      <td>proveedores</td>\n",
       "      <td>2</td>\n",
       "      <td>CREATE TABLE proveedores (\\nid_proveedor INT P...</td>\n",
       "    </tr>\n",
       "  </tbody>\n",
       "</table>\n",
       "</div>"
      ],
      "text/plain": [
       "    type         name     tbl_name  rootpage  \\\n",
       "0  table  proveedores  proveedores         2   \n",
       "\n",
       "                                                 sql  \n",
       "0  CREATE TABLE proveedores (\\nid_proveedor INT P...  "
      ]
     },
     "execution_count": 5,
     "metadata": {},
     "output_type": "execute_result"
    }
   ],
   "source": [
    "query = ''' \n",
    "SELECT *\n",
    "FROM sqlite_master\n",
    "WHERE type = \"table\"\n",
    "'''\n",
    "pd.read_sql(query, cnx)"
   ]
  },
  {
   "cell_type": "code",
   "execution_count": null,
   "id": "ac828aa3",
   "metadata": {},
   "outputs": [
    {
     "data": {
      "text/html": [
       "<div>\n",
       "<style scoped>\n",
       "    .dataframe tbody tr th:only-of-type {\n",
       "        vertical-align: middle;\n",
       "    }\n",
       "\n",
       "    .dataframe tbody tr th {\n",
       "        vertical-align: top;\n",
       "    }\n",
       "\n",
       "    .dataframe thead th {\n",
       "        text-align: right;\n",
       "    }\n",
       "</style>\n",
       "<table border=\"1\" class=\"dataframe\">\n",
       "  <thead>\n",
       "    <tr style=\"text-align: right;\">\n",
       "      <th></th>\n",
       "      <th>id_proveedor</th>\n",
       "      <th>nombre</th>\n",
       "      <th>direccion</th>\n",
       "      <th>ciudad</th>\n",
       "      <th>provincia</th>\n",
       "    </tr>\n",
       "  </thead>\n",
       "  <tbody>\n",
       "  </tbody>\n",
       "</table>\n",
       "</div>"
      ],
      "text/plain": [
       "Empty DataFrame\n",
       "Columns: [id_proveedor, nombre, direccion, ciudad, provincia]\n",
       "Index: []"
      ]
     },
     "execution_count": 16,
     "metadata": {},
     "output_type": "execute_result"
    }
   ],
   "source": [
    "query = ''' \n",
    "SELECT *\n",
    "FROM proveedores\n",
    "'''\n",
    "pd.read_sql(query, cnx)"
   ]
  },
  {
   "cell_type": "code",
   "execution_count": null,
   "id": "806aa323",
   "metadata": {},
   "outputs": [
    {
     "data": {
      "text/plain": [
       "<sqlite3.Cursor at 0x1db7f63dc40>"
      ]
     },
     "execution_count": 6,
     "metadata": {},
     "output_type": "execute_result"
    }
   ],
   "source": [
    "query = '''\n",
    "CREATE TABLE piezas (\n",
    "id_pieza INT PRIMARY KEY,\n",
    "nombre TEXT NOT NULL,\n",
    "color TEXT NOT NULL,\n",
    "precio FLOAT NOT NULL,\n",
    "categoria TEXT NOT NULL\n",
    ") \n",
    "'''\n",
    "cursor_prov.execute(query)"
   ]
  },
  {
   "cell_type": "code",
   "execution_count": null,
   "id": "70e3bcc4",
   "metadata": {},
   "outputs": [
    {
     "data": {
      "text/html": [
       "<div>\n",
       "<style scoped>\n",
       "    .dataframe tbody tr th:only-of-type {\n",
       "        vertical-align: middle;\n",
       "    }\n",
       "\n",
       "    .dataframe tbody tr th {\n",
       "        vertical-align: top;\n",
       "    }\n",
       "\n",
       "    .dataframe thead th {\n",
       "        text-align: right;\n",
       "    }\n",
       "</style>\n",
       "<table border=\"1\" class=\"dataframe\">\n",
       "  <thead>\n",
       "    <tr style=\"text-align: right;\">\n",
       "      <th></th>\n",
       "      <th>type</th>\n",
       "      <th>name</th>\n",
       "      <th>tbl_name</th>\n",
       "      <th>rootpage</th>\n",
       "      <th>sql</th>\n",
       "    </tr>\n",
       "  </thead>\n",
       "  <tbody>\n",
       "    <tr>\n",
       "      <th>0</th>\n",
       "      <td>table</td>\n",
       "      <td>proveedores</td>\n",
       "      <td>proveedores</td>\n",
       "      <td>2</td>\n",
       "      <td>CREATE TABLE proveedores (\\nid_proveedor INT P...</td>\n",
       "    </tr>\n",
       "    <tr>\n",
       "      <th>1</th>\n",
       "      <td>table</td>\n",
       "      <td>piezas</td>\n",
       "      <td>piezas</td>\n",
       "      <td>4</td>\n",
       "      <td>CREATE TABLE piezas (\\nid_pieza INT PRIMARY KE...</td>\n",
       "    </tr>\n",
       "  </tbody>\n",
       "</table>\n",
       "</div>"
      ],
      "text/plain": [
       "    type         name     tbl_name  rootpage  \\\n",
       "0  table  proveedores  proveedores         2   \n",
       "1  table       piezas       piezas         4   \n",
       "\n",
       "                                                 sql  \n",
       "0  CREATE TABLE proveedores (\\nid_proveedor INT P...  \n",
       "1  CREATE TABLE piezas (\\nid_pieza INT PRIMARY KE...  "
      ]
     },
     "execution_count": 7,
     "metadata": {},
     "output_type": "execute_result"
    }
   ],
   "source": [
    "query = ''' \n",
    "SELECT *\n",
    "FROM sqlite_master\n",
    "WHERE type = \"table\"\n",
    "'''\n",
    "pd.read_sql(query, cnx)"
   ]
  },
  {
   "cell_type": "code",
   "execution_count": null,
   "id": "cb598c86",
   "metadata": {},
   "outputs": [
    {
     "data": {
      "text/plain": [
       "<sqlite3.Cursor at 0x1db7f63dc40>"
      ]
     },
     "execution_count": 8,
     "metadata": {},
     "output_type": "execute_result"
    }
   ],
   "source": [
    "query = '''\n",
    "CREATE TABLE categoria_pieza (\n",
    "id_categoria INT PRIMARY KEY,\n",
    "nombre_categoria TEXT NOT NULL\n",
    ") \n",
    "'''\n",
    "cursor_prov.execute(query)"
   ]
  },
  {
   "cell_type": "code",
   "execution_count": null,
   "id": "bc2f8773",
   "metadata": {},
   "outputs": [
    {
     "data": {
      "text/html": [
       "<div>\n",
       "<style scoped>\n",
       "    .dataframe tbody tr th:only-of-type {\n",
       "        vertical-align: middle;\n",
       "    }\n",
       "\n",
       "    .dataframe tbody tr th {\n",
       "        vertical-align: top;\n",
       "    }\n",
       "\n",
       "    .dataframe thead th {\n",
       "        text-align: right;\n",
       "    }\n",
       "</style>\n",
       "<table border=\"1\" class=\"dataframe\">\n",
       "  <thead>\n",
       "    <tr style=\"text-align: right;\">\n",
       "      <th></th>\n",
       "      <th>type</th>\n",
       "      <th>name</th>\n",
       "      <th>tbl_name</th>\n",
       "      <th>rootpage</th>\n",
       "      <th>sql</th>\n",
       "    </tr>\n",
       "  </thead>\n",
       "  <tbody>\n",
       "    <tr>\n",
       "      <th>0</th>\n",
       "      <td>table</td>\n",
       "      <td>proveedores</td>\n",
       "      <td>proveedores</td>\n",
       "      <td>2</td>\n",
       "      <td>CREATE TABLE proveedores (\\nid_proveedor INT P...</td>\n",
       "    </tr>\n",
       "    <tr>\n",
       "      <th>1</th>\n",
       "      <td>table</td>\n",
       "      <td>piezas</td>\n",
       "      <td>piezas</td>\n",
       "      <td>4</td>\n",
       "      <td>CREATE TABLE piezas (\\nid_pieza INT PRIMARY KE...</td>\n",
       "    </tr>\n",
       "    <tr>\n",
       "      <th>2</th>\n",
       "      <td>table</td>\n",
       "      <td>categoria_pieza</td>\n",
       "      <td>categoria_pieza</td>\n",
       "      <td>6</td>\n",
       "      <td>CREATE TABLE categoria_pieza (\\nid_categoria I...</td>\n",
       "    </tr>\n",
       "  </tbody>\n",
       "</table>\n",
       "</div>"
      ],
      "text/plain": [
       "    type             name         tbl_name  rootpage  \\\n",
       "0  table      proveedores      proveedores         2   \n",
       "1  table           piezas           piezas         4   \n",
       "2  table  categoria_pieza  categoria_pieza         6   \n",
       "\n",
       "                                                 sql  \n",
       "0  CREATE TABLE proveedores (\\nid_proveedor INT P...  \n",
       "1  CREATE TABLE piezas (\\nid_pieza INT PRIMARY KE...  \n",
       "2  CREATE TABLE categoria_pieza (\\nid_categoria I...  "
      ]
     },
     "execution_count": 9,
     "metadata": {},
     "output_type": "execute_result"
    }
   ],
   "source": [
    "query = ''' \n",
    "SELECT *\n",
    "FROM sqlite_master\n",
    "WHERE type = \"table\"\n",
    "'''\n",
    "pd.read_sql(query, cnx)"
   ]
  },
  {
   "cell_type": "code",
   "execution_count": null,
   "id": "f3366852",
   "metadata": {},
   "outputs": [
    {
     "data": {
      "text/html": [
       "<div>\n",
       "<style scoped>\n",
       "    .dataframe tbody tr th:only-of-type {\n",
       "        vertical-align: middle;\n",
       "    }\n",
       "\n",
       "    .dataframe tbody tr th {\n",
       "        vertical-align: top;\n",
       "    }\n",
       "\n",
       "    .dataframe thead th {\n",
       "        text-align: right;\n",
       "    }\n",
       "</style>\n",
       "<table border=\"1\" class=\"dataframe\">\n",
       "  <thead>\n",
       "    <tr style=\"text-align: right;\">\n",
       "      <th></th>\n",
       "      <th>id_categoria</th>\n",
       "      <th>nombre_categoria</th>\n",
       "    </tr>\n",
       "  </thead>\n",
       "  <tbody>\n",
       "  </tbody>\n",
       "</table>\n",
       "</div>"
      ],
      "text/plain": [
       "Empty DataFrame\n",
       "Columns: [id_categoria, nombre_categoria]\n",
       "Index: []"
      ]
     },
     "execution_count": 10,
     "metadata": {},
     "output_type": "execute_result"
    }
   ],
   "source": [
    "query = ''' \n",
    "SELECT *\n",
    "FROM categoria_pieza\n",
    "'''\n",
    "pd.read_sql(query, cnx)"
   ]
  },
  {
   "cell_type": "code",
   "execution_count": null,
   "id": "5a445057",
   "metadata": {},
   "outputs": [
    {
     "data": {
      "text/plain": [
       "<sqlite3.Cursor at 0x1db7f63dc40>"
      ]
     },
     "execution_count": 12,
     "metadata": {},
     "output_type": "execute_result"
    }
   ],
   "source": [
    "query = '''\n",
    "CREATE TABLE operaciones (\n",
    "id_operacion INT PRIMARY KEY,\n",
    "id_proveedor INT NOT NULL,\n",
    "id_pieza INT NOT NULL,\n",
    "fecha TEXT NOT NULL,\n",
    "id_factura INT NOT NULL\n",
    ") \n",
    "'''\n",
    "cursor_prov.execute(query)"
   ]
  },
  {
   "cell_type": "code",
   "execution_count": null,
   "id": "378c0105",
   "metadata": {},
   "outputs": [
    {
     "data": {
      "text/html": [
       "<div>\n",
       "<style scoped>\n",
       "    .dataframe tbody tr th:only-of-type {\n",
       "        vertical-align: middle;\n",
       "    }\n",
       "\n",
       "    .dataframe tbody tr th {\n",
       "        vertical-align: top;\n",
       "    }\n",
       "\n",
       "    .dataframe thead th {\n",
       "        text-align: right;\n",
       "    }\n",
       "</style>\n",
       "<table border=\"1\" class=\"dataframe\">\n",
       "  <thead>\n",
       "    <tr style=\"text-align: right;\">\n",
       "      <th></th>\n",
       "      <th>type</th>\n",
       "      <th>name</th>\n",
       "      <th>tbl_name</th>\n",
       "      <th>rootpage</th>\n",
       "      <th>sql</th>\n",
       "    </tr>\n",
       "  </thead>\n",
       "  <tbody>\n",
       "    <tr>\n",
       "      <th>0</th>\n",
       "      <td>table</td>\n",
       "      <td>proveedores</td>\n",
       "      <td>proveedores</td>\n",
       "      <td>2</td>\n",
       "      <td>CREATE TABLE proveedores (\\nid_proveedor INT P...</td>\n",
       "    </tr>\n",
       "    <tr>\n",
       "      <th>1</th>\n",
       "      <td>table</td>\n",
       "      <td>piezas</td>\n",
       "      <td>piezas</td>\n",
       "      <td>4</td>\n",
       "      <td>CREATE TABLE piezas (\\nid_pieza INT PRIMARY KE...</td>\n",
       "    </tr>\n",
       "    <tr>\n",
       "      <th>2</th>\n",
       "      <td>table</td>\n",
       "      <td>categoria_pieza</td>\n",
       "      <td>categoria_pieza</td>\n",
       "      <td>6</td>\n",
       "      <td>CREATE TABLE categoria_pieza (\\nid_categoria I...</td>\n",
       "    </tr>\n",
       "    <tr>\n",
       "      <th>3</th>\n",
       "      <td>table</td>\n",
       "      <td>operaciones</td>\n",
       "      <td>operaciones</td>\n",
       "      <td>8</td>\n",
       "      <td>CREATE TABLE operaciones (\\nid_operacion INT P...</td>\n",
       "    </tr>\n",
       "  </tbody>\n",
       "</table>\n",
       "</div>"
      ],
      "text/plain": [
       "    type             name         tbl_name  rootpage  \\\n",
       "0  table      proveedores      proveedores         2   \n",
       "1  table           piezas           piezas         4   \n",
       "2  table  categoria_pieza  categoria_pieza         6   \n",
       "3  table      operaciones      operaciones         8   \n",
       "\n",
       "                                                 sql  \n",
       "0  CREATE TABLE proveedores (\\nid_proveedor INT P...  \n",
       "1  CREATE TABLE piezas (\\nid_pieza INT PRIMARY KE...  \n",
       "2  CREATE TABLE categoria_pieza (\\nid_categoria I...  \n",
       "3  CREATE TABLE operaciones (\\nid_operacion INT P...  "
      ]
     },
     "execution_count": 13,
     "metadata": {},
     "output_type": "execute_result"
    }
   ],
   "source": [
    "query = ''' \n",
    "SELECT *\n",
    "FROM sqlite_master\n",
    "WHERE type = \"table\"\n",
    "'''\n",
    "pd.read_sql(query, cnx)"
   ]
  },
  {
   "cell_type": "code",
   "execution_count": null,
   "id": "508cf0cb",
   "metadata": {},
   "outputs": [
    {
     "data": {
      "text/plain": [
       "<sqlite3.Cursor at 0x1db7f63dc40>"
      ]
     },
     "execution_count": 14,
     "metadata": {},
     "output_type": "execute_result"
    }
   ],
   "source": [
    "query = '''\n",
    "CREATE TABLE facturas (\n",
    "id_factura INT PRIMARY KEY,\n",
    "id_proveedor INT NOT NULL,\n",
    "id_pieza INT NOT NULL,\n",
    "cantidad_piezas INT NOT NULL,\n",
    "precio_ud INT NOT NULL,\n",
    "total INT NOT NULL,\n",
    "fecha_factura TEXT NOT NULL\n",
    ") \n",
    "'''\n",
    "cursor_prov.execute(query)"
   ]
  },
  {
   "cell_type": "code",
   "execution_count": null,
   "id": "58f5c8fe",
   "metadata": {},
   "outputs": [
    {
     "data": {
      "text/html": [
       "<div>\n",
       "<style scoped>\n",
       "    .dataframe tbody tr th:only-of-type {\n",
       "        vertical-align: middle;\n",
       "    }\n",
       "\n",
       "    .dataframe tbody tr th {\n",
       "        vertical-align: top;\n",
       "    }\n",
       "\n",
       "    .dataframe thead th {\n",
       "        text-align: right;\n",
       "    }\n",
       "</style>\n",
       "<table border=\"1\" class=\"dataframe\">\n",
       "  <thead>\n",
       "    <tr style=\"text-align: right;\">\n",
       "      <th></th>\n",
       "      <th>type</th>\n",
       "      <th>name</th>\n",
       "      <th>tbl_name</th>\n",
       "      <th>rootpage</th>\n",
       "      <th>sql</th>\n",
       "    </tr>\n",
       "  </thead>\n",
       "  <tbody>\n",
       "    <tr>\n",
       "      <th>0</th>\n",
       "      <td>table</td>\n",
       "      <td>proveedores</td>\n",
       "      <td>proveedores</td>\n",
       "      <td>2</td>\n",
       "      <td>CREATE TABLE proveedores (\\nid_proveedor INT P...</td>\n",
       "    </tr>\n",
       "    <tr>\n",
       "      <th>1</th>\n",
       "      <td>table</td>\n",
       "      <td>piezas</td>\n",
       "      <td>piezas</td>\n",
       "      <td>4</td>\n",
       "      <td>CREATE TABLE piezas (\\nid_pieza INT PRIMARY KE...</td>\n",
       "    </tr>\n",
       "    <tr>\n",
       "      <th>2</th>\n",
       "      <td>table</td>\n",
       "      <td>categoria_pieza</td>\n",
       "      <td>categoria_pieza</td>\n",
       "      <td>6</td>\n",
       "      <td>CREATE TABLE categoria_pieza (\\nid_categoria I...</td>\n",
       "    </tr>\n",
       "    <tr>\n",
       "      <th>3</th>\n",
       "      <td>table</td>\n",
       "      <td>operaciones</td>\n",
       "      <td>operaciones</td>\n",
       "      <td>8</td>\n",
       "      <td>CREATE TABLE operaciones (\\nid_operacion INT P...</td>\n",
       "    </tr>\n",
       "    <tr>\n",
       "      <th>4</th>\n",
       "      <td>table</td>\n",
       "      <td>facturas</td>\n",
       "      <td>facturas</td>\n",
       "      <td>10</td>\n",
       "      <td>CREATE TABLE facturas (\\nid_factura INT PRIMAR...</td>\n",
       "    </tr>\n",
       "  </tbody>\n",
       "</table>\n",
       "</div>"
      ],
      "text/plain": [
       "    type             name         tbl_name  rootpage  \\\n",
       "0  table      proveedores      proveedores         2   \n",
       "1  table           piezas           piezas         4   \n",
       "2  table  categoria_pieza  categoria_pieza         6   \n",
       "3  table      operaciones      operaciones         8   \n",
       "4  table         facturas         facturas        10   \n",
       "\n",
       "                                                 sql  \n",
       "0  CREATE TABLE proveedores (\\nid_proveedor INT P...  \n",
       "1  CREATE TABLE piezas (\\nid_pieza INT PRIMARY KE...  \n",
       "2  CREATE TABLE categoria_pieza (\\nid_categoria I...  \n",
       "3  CREATE TABLE operaciones (\\nid_operacion INT P...  \n",
       "4  CREATE TABLE facturas (\\nid_factura INT PRIMAR...  "
      ]
     },
     "execution_count": 15,
     "metadata": {},
     "output_type": "execute_result"
    }
   ],
   "source": [
    "query = ''' \n",
    "SELECT *\n",
    "FROM sqlite_master\n",
    "WHERE type = \"table\"\n",
    "'''\n",
    "pd.read_sql(query, cnx)"
   ]
  },
  {
   "cell_type": "code",
   "execution_count": null,
   "id": "544e2a88",
   "metadata": {},
   "outputs": [
    {
     "ename": "OperationalError",
     "evalue": "duplicate column name: id_pieza",
     "output_type": "error",
     "traceback": [
      "\u001b[1;31m---------------------------------------------------------------------------\u001b[0m",
      "\u001b[1;31mOperationalError\u001b[0m                          Traceback (most recent call last)",
      "Cell \u001b[1;32mIn[12], line 5\u001b[0m\n\u001b[0;32m      1\u001b[0m query \u001b[38;5;241m=\u001b[39m \u001b[38;5;124m'''\u001b[39m\u001b[38;5;124m \u001b[39m\n\u001b[0;32m      2\u001b[0m \u001b[38;5;124mALTER TABLE categoria_pieza\u001b[39m\n\u001b[0;32m      3\u001b[0m \u001b[38;5;124mADD COLUMN id_pieza VARCHAR(50)\u001b[39m\n\u001b[0;32m      4\u001b[0m \u001b[38;5;124m'''\u001b[39m\n\u001b[1;32m----> 5\u001b[0m \u001b[43mcnx\u001b[49m\u001b[38;5;241;43m.\u001b[39;49m\u001b[43mexecute\u001b[49m\u001b[43m(\u001b[49m\u001b[43mquery\u001b[49m\u001b[43m)\u001b[49m\n",
      "\u001b[1;31mOperationalError\u001b[0m: duplicate column name: id_pieza"
     ]
    }
   ],
   "source": [
    "query = ''' \n",
    "ALTER TABLE categoria_pieza\n",
    "ADD COLUMN id_pieza VARCHAR(50)\n",
    "'''\n",
    "cnx.execute(query)"
   ]
  },
  {
   "cell_type": "code",
   "execution_count": null,
   "id": "65a7c53d",
   "metadata": {},
   "outputs": [
    {
     "data": {
      "text/html": [
       "<div>\n",
       "<style scoped>\n",
       "    .dataframe tbody tr th:only-of-type {\n",
       "        vertical-align: middle;\n",
       "    }\n",
       "\n",
       "    .dataframe tbody tr th {\n",
       "        vertical-align: top;\n",
       "    }\n",
       "\n",
       "    .dataframe thead th {\n",
       "        text-align: right;\n",
       "    }\n",
       "</style>\n",
       "<table border=\"1\" class=\"dataframe\">\n",
       "  <thead>\n",
       "    <tr style=\"text-align: right;\">\n",
       "      <th></th>\n",
       "      <th>id_categoria</th>\n",
       "      <th>nombre_categoria</th>\n",
       "      <th>id_pieza</th>\n",
       "    </tr>\n",
       "  </thead>\n",
       "  <tbody>\n",
       "  </tbody>\n",
       "</table>\n",
       "</div>"
      ],
      "text/plain": [
       "Empty DataFrame\n",
       "Columns: [id_categoria, nombre_categoria, id_pieza]\n",
       "Index: []"
      ]
     },
     "execution_count": 9,
     "metadata": {},
     "output_type": "execute_result"
    }
   ],
   "source": [
    "query = ''' \n",
    "SELECT *\n",
    "FROM categoria_pieza\n",
    "'''\n",
    "pd.read_sql(query, cnx)"
   ]
  },
  {
   "cell_type": "code",
   "execution_count": 10,
   "id": "721a829b",
   "metadata": {},
   "outputs": [
    {
     "name": "stdout",
     "output_type": "stream",
     "text": [
      "id_categoria: cca6698a, nombre_categoría: Neumáticos\n",
      "id_categoria: 0f60b577, nombre_categoría: Carrocería\n",
      "id_categoria: 77f94cef, nombre_categoría: Suspensión\n",
      "id_categoria: ece3916f, nombre_categoría: Electrónica\n",
      "id_categoria: 39ae6f90, nombre_categoría: Escape\n",
      "id_categoria: 1e89a299, nombre_categoría: Motor\n",
      "id_categoria: 9c3454c7, nombre_categoría: Transmisión\n",
      "id_categoria: 3b71e090, nombre_categoría: Frenos\n",
      "id_categoria: b21b3a8c, nombre_categoría: Iluminación\n",
      "id_categoria: 20077a85, nombre_categoría: Refrigeración\n"
     ]
    }
   ],
   "source": [
    "from faker import Faker\n",
    "import random\n",
    "\n",
    "fake = Faker(\"es_ES\")\n",
    "\n",
    "categorias_piezas_coche = [\"Motor\",\"Suspensión\",\"Frenos\",\"Transmisión\",\"Escape\",\"Refrigeración\",\"Electrónica\",\"Iluminación\",\"Carrocería\",\"Neumáticos\"]\n",
    "#no he encontraod nada de faker que me devuelva nombres válidos para las categorías, asi que los pongo en una lista y que los elija aleatoriamente\n",
    "\n",
    "categoria_info_list = []\n",
    "\n",
    "for _ in range(10):\n",
    "    id_categoria = fake.uuid4()[:8] #los he reducido a 8 caracteres porque salia un id muy largo\n",
    "    nombre_categoria = random.choice(categorias_piezas_coche)\n",
    "    categorias_piezas_coche.remove(nombre_categoria)\n",
    "\n",
    "    categoria_info_list.append((id_categoria, nombre_categoria))\n",
    "\n",
    "\n",
    "    print(f\"id_categoria: {id_categoria}, nombre_categoría: {nombre_categoria}\")"
   ]
  },
  {
   "cell_type": "code",
   "execution_count": 22,
   "id": "d5e6846b",
   "metadata": {},
   "outputs": [],
   "source": [
    "query = ''' \n",
    "INSERT INTO categoria_pieza (id_categoria, nombre_categoria)\n",
    "VALUES (?, ?) \n",
    "'''"
   ]
  },
  {
   "cell_type": "code",
   "execution_count": 24,
   "id": "c2d9d000",
   "metadata": {},
   "outputs": [
    {
     "ename": "IntegrityError",
     "evalue": "UNIQUE constraint failed: categoria_pieza.id_categoria",
     "output_type": "error",
     "traceback": [
      "\u001b[1;31m---------------------------------------------------------------------------\u001b[0m",
      "\u001b[1;31mIntegrityError\u001b[0m                            Traceback (most recent call last)",
      "Cell \u001b[1;32mIn[24], line 2\u001b[0m\n\u001b[0;32m      1\u001b[0m \u001b[38;5;28;01mfor\u001b[39;00m id_categoria, nombre_categoria \u001b[38;5;129;01min\u001b[39;00m categoria_info_list:  \u001b[38;5;66;03m#cnx.executemany()\u001b[39;00m\n\u001b[1;32m----> 2\u001b[0m     \u001b[43mcnx\u001b[49m\u001b[38;5;241;43m.\u001b[39;49m\u001b[43mexecute\u001b[49m\u001b[43m(\u001b[49m\u001b[43mquery\u001b[49m\u001b[43m,\u001b[49m\u001b[43m \u001b[49m\u001b[43m(\u001b[49m\u001b[43mid_categoria\u001b[49m\u001b[43m,\u001b[49m\u001b[43m \u001b[49m\u001b[43mnombre_categoria\u001b[49m\u001b[43m)\u001b[49m\u001b[43m)\u001b[49m\n",
      "\u001b[1;31mIntegrityError\u001b[0m: UNIQUE constraint failed: categoria_pieza.id_categoria"
     ]
    }
   ],
   "source": [
    "for id_categoria, nombre_categoria in categoria_info_list:  #cnx.executemany()\n",
    "    cnx.execute(query, (id_categoria, nombre_categoria))"
   ]
  },
  {
   "cell_type": "code",
   "execution_count": null,
   "id": "ca011dad",
   "metadata": {},
   "outputs": [
    {
     "data": {
      "text/html": [
       "<div>\n",
       "<style scoped>\n",
       "    .dataframe tbody tr th:only-of-type {\n",
       "        vertical-align: middle;\n",
       "    }\n",
       "\n",
       "    .dataframe tbody tr th {\n",
       "        vertical-align: top;\n",
       "    }\n",
       "\n",
       "    .dataframe thead th {\n",
       "        text-align: right;\n",
       "    }\n",
       "</style>\n",
       "<table border=\"1\" class=\"dataframe\">\n",
       "  <thead>\n",
       "    <tr style=\"text-align: right;\">\n",
       "      <th></th>\n",
       "      <th>id_categoria</th>\n",
       "      <th>nombre_categoria</th>\n",
       "      <th>id_pieza</th>\n",
       "    </tr>\n",
       "  </thead>\n",
       "  <tbody>\n",
       "    <tr>\n",
       "      <th>0</th>\n",
       "      <td>5b873307</td>\n",
       "      <td>Iluminación</td>\n",
       "      <td>None</td>\n",
       "    </tr>\n",
       "    <tr>\n",
       "      <th>1</th>\n",
       "      <td>b9f2ece5</td>\n",
       "      <td>Suspensión</td>\n",
       "      <td>None</td>\n",
       "    </tr>\n",
       "    <tr>\n",
       "      <th>2</th>\n",
       "      <td>fa0d268e</td>\n",
       "      <td>Carrocería</td>\n",
       "      <td>None</td>\n",
       "    </tr>\n",
       "    <tr>\n",
       "      <th>3</th>\n",
       "      <td>40eddc77</td>\n",
       "      <td>Refrigeración</td>\n",
       "      <td>None</td>\n",
       "    </tr>\n",
       "    <tr>\n",
       "      <th>4</th>\n",
       "      <td>e37490d4</td>\n",
       "      <td>Escape</td>\n",
       "      <td>None</td>\n",
       "    </tr>\n",
       "    <tr>\n",
       "      <th>5</th>\n",
       "      <td>f0f3a0ff</td>\n",
       "      <td>Frenos</td>\n",
       "      <td>None</td>\n",
       "    </tr>\n",
       "    <tr>\n",
       "      <th>6</th>\n",
       "      <td>f0226ce7</td>\n",
       "      <td>Neumáticos</td>\n",
       "      <td>None</td>\n",
       "    </tr>\n",
       "    <tr>\n",
       "      <th>7</th>\n",
       "      <td>2caf6d5a</td>\n",
       "      <td>Transmisión</td>\n",
       "      <td>None</td>\n",
       "    </tr>\n",
       "    <tr>\n",
       "      <th>8</th>\n",
       "      <td>03da27b3</td>\n",
       "      <td>Motor</td>\n",
       "      <td>None</td>\n",
       "    </tr>\n",
       "    <tr>\n",
       "      <th>9</th>\n",
       "      <td>eb69ccf4</td>\n",
       "      <td>Electrónica</td>\n",
       "      <td>None</td>\n",
       "    </tr>\n",
       "  </tbody>\n",
       "</table>\n",
       "</div>"
      ],
      "text/plain": [
       "  id_categoria nombre_categoria id_pieza\n",
       "0     5b873307      Iluminación     None\n",
       "1     b9f2ece5       Suspensión     None\n",
       "2     fa0d268e       Carrocería     None\n",
       "3     40eddc77    Refrigeración     None\n",
       "4     e37490d4           Escape     None\n",
       "5     f0f3a0ff           Frenos     None\n",
       "6     f0226ce7       Neumáticos     None\n",
       "7     2caf6d5a      Transmisión     None\n",
       "8     03da27b3            Motor     None\n",
       "9     eb69ccf4      Electrónica     None"
      ]
     },
     "execution_count": 40,
     "metadata": {},
     "output_type": "execute_result"
    }
   ],
   "source": [
    "query = ''' \n",
    "SELECT *\n",
    "FROM categoria_pieza\n",
    "'''\n",
    "pd.read_sql(query, cnx)"
   ]
  },
  {
   "cell_type": "code",
   "execution_count": null,
   "id": "bad5ba0b",
   "metadata": {},
   "outputs": [],
   "source": [
    "#me he dadoc uenta de que no puedo añadir id_pieza a mi tabla porque debería haber más id_piezas que id_categorias (y en mi caso debe ser key)\n",
    "#en todo caso, creo que mi id_categoria deberia estar en la tabla piezas de Marta, y en todo caso deberia haber mas datos en piezas que en categoria (o menos en categoría)"
   ]
  },
  {
   "cell_type": "code",
   "execution_count": null,
   "id": "e95b946e",
   "metadata": {},
   "outputs": [],
   "source": []
  },
  {
   "cell_type": "code",
   "execution_count": null,
   "id": "2cc8e3ea",
   "metadata": {},
   "outputs": [],
   "source": []
  }
 ],
 "metadata": {
  "kernelspec": {
   "display_name": "Python 3",
   "language": "python",
   "name": "python3"
  },
  "language_info": {
   "codemirror_mode": {
    "name": "ipython",
    "version": 3
   },
   "file_extension": ".py",
   "mimetype": "text/x-python",
   "name": "python",
   "nbconvert_exporter": "python",
   "pygments_lexer": "ipython3",
   "version": "3.13.2"
  }
 },
 "nbformat": 4,
 "nbformat_minor": 5
}
